{
 "cells": [
  {
   "cell_type": "code",
   "execution_count": 1,
   "metadata": {
    "execution": {
     "iopub.execute_input": "2023-03-14T02:51:45.798119Z",
     "iopub.status.busy": "2023-03-14T02:51:45.797860Z",
     "iopub.status.idle": "2023-03-14T02:51:45.802407Z",
     "shell.execute_reply": "2023-03-14T02:51:45.801688Z",
     "shell.execute_reply.started": "2023-03-14T02:51:45.798098Z"
    },
    "id": "2ESUdcEBIEHz"
   },
   "outputs": [
    {
     "name": "stdout",
     "output_type": "stream",
     "text": [
      "Requirement already satisfied: matplotlib in /usr/local/lib/python3.8/dist-packages (3.7.1)\n",
      "Requirement already satisfied: pyparsing>=2.3.1 in /usr/local/lib/python3.8/dist-packages (from matplotlib) (3.0.9)\n",
      "Requirement already satisfied: numpy>=1.20 in /usr/local/lib/python3.8/dist-packages (from matplotlib) (1.23.4)\n",
      "Requirement already satisfied: kiwisolver>=1.0.1 in /usr/local/lib/python3.8/dist-packages (from matplotlib) (1.4.4)\n",
      "Requirement already satisfied: python-dateutil>=2.7 in /usr/local/lib/python3.8/dist-packages (from matplotlib) (2.8.2)\n",
      "Requirement already satisfied: contourpy>=1.0.1 in /usr/local/lib/python3.8/dist-packages (from matplotlib) (1.0.7)\n",
      "Requirement already satisfied: importlib-resources>=3.2.0; python_version < \"3.10\" in /usr/local/lib/python3.8/dist-packages (from matplotlib) (5.12.0)\n",
      "Requirement already satisfied: fonttools>=4.22.0 in /usr/local/lib/python3.8/dist-packages (from matplotlib) (4.39.0)\n",
      "Requirement already satisfied: cycler>=0.10 in /usr/local/lib/python3.8/dist-packages (from matplotlib) (0.11.0)\n",
      "Requirement already satisfied: pillow>=6.2.0 in /usr/local/lib/python3.8/dist-packages (from matplotlib) (9.4.0)\n",
      "Requirement already satisfied: packaging>=20.0 in /usr/local/lib/python3.8/dist-packages (from matplotlib) (21.3)\n",
      "Requirement already satisfied: six>=1.5 in /usr/lib/python3/dist-packages (from python-dateutil>=2.7->matplotlib) (1.14.0)\n",
      "Requirement already satisfied: zipp>=3.1.0; python_version < \"3.10\" in /usr/local/lib/python3.8/dist-packages (from importlib-resources>=3.2.0; python_version < \"3.10\"->matplotlib) (3.10.0)\n",
      "\u001b[33mWARNING: You are using pip version 20.2.4; however, version 23.0.1 is available.\n",
      "You should consider upgrading via the '/usr/bin/python3 -m pip install --upgrade pip' command.\u001b[0m\n",
      "Collecting scipy\n",
      "  Downloading scipy-1.10.1-cp38-cp38-manylinux_2_17_x86_64.manylinux2014_x86_64.whl (34.5 MB)\n",
      "\u001b[K     |████████████████████████████████| 34.5 MB 1.7 MB/s eta 0:00:01\n",
      "\u001b[?25hRequirement already satisfied: numpy<1.27.0,>=1.19.5 in /usr/local/lib/python3.8/dist-packages (from scipy) (1.23.4)\n",
      "Installing collected packages: scipy\n",
      "Successfully installed scipy-1.10.1\n",
      "\u001b[33mWARNING: You are using pip version 20.2.4; however, version 23.0.1 is available.\n",
      "You should consider upgrading via the '/usr/bin/python3 -m pip install --upgrade pip' command.\u001b[0m\n"
     ]
    }
   ],
   "source": [
    "%load_ext tensorboard\n",
    "!pip install matplotlib\n",
    "!pip install scipy"
   ]
  },
  {
   "cell_type": "code",
   "execution_count": 2,
   "metadata": {
    "execution": {
     "iopub.execute_input": "2023-03-14T02:51:45.803665Z",
     "iopub.status.busy": "2023-03-14T02:51:45.803454Z",
     "iopub.status.idle": "2023-03-14T02:51:45.808266Z",
     "shell.execute_reply": "2023-03-14T02:51:45.807519Z",
     "shell.execute_reply.started": "2023-03-14T02:51:45.803646Z"
    },
    "id": "b8MlenhxApmx"
   },
   "outputs": [],
   "source": [
    "import datetime\n",
    "import numpy as np\n",
    "import tensorflow as tf\n",
    "import matplotlib.pyplot as plt\n",
    "import os\n",
    "\n",
    "\n",
    "import keras\n",
    "from keras import Model\n",
    "import keras.layers as layers\n",
    "from keras.models import Sequential\n",
    "from keras.losses import categorical_crossentropy\n",
    "from keras.layers import Dense, Flatten, Conv2D, AveragePooling2D, MaxPooling2D\n",
    "from keras.callbacks import TensorBoard, EarlyStopping\n",
    "from keras.utils import image_dataset_from_directory\n",
    "from keras.preprocessing.image import ImageDataGenerator\n",
    "\n",
    "from keras import datasets\n",
    "from keras.utils import to_categorical\n",
    "\n",
    "from __future__ import absolute_import, division, print_function, unicode_literals"
   ]
  },
  {
   "cell_type": "code",
   "execution_count": 3,
   "metadata": {
    "colab": {
     "base_uri": "https://localhost:8080/"
    },
    "execution": {
     "iopub.execute_input": "2023-03-14T02:51:45.809506Z",
     "iopub.status.busy": "2023-03-14T02:51:45.809333Z",
     "iopub.status.idle": "2023-03-14T02:51:46.440053Z",
     "shell.execute_reply": "2023-03-14T02:51:46.439508Z",
     "shell.execute_reply.started": "2023-03-14T02:51:45.809489Z"
    },
    "id": "TQfmgR7qTGSi",
    "outputId": "22c954c8-e88c-444a-ae0e-0056ea92ca64"
   },
   "outputs": [
    {
     "name": "stdout",
     "output_type": "stream",
     "text": [
      "Found 15119 images belonging to 2 classes.\n",
      "Found 7445 images belonging to 2 classes.\n",
      "Found 2513 images belonging to 2 classes.\n"
     ]
    }
   ],
   "source": [
    "img_train_path = os.path.join(\"DATASET\",\"TRAIN\")\n",
    "img_test_path = os.path.join(\"DATASET\",\"TEST\")\n",
    "data_gen = ImageDataGenerator(rescale=1./255, fill_mode='reflect', validation_split=0.33)\n",
    "test_gen = ImageDataGenerator(rescale=1./255)\n",
    "BATCH_SIZE = 128\n",
    "\n",
    "train_generator = data_gen.flow_from_directory(img_train_path, target_size=(256,256), batch_size=BATCH_SIZE, subset='training')\n",
    "validation_generator = data_gen.flow_from_directory(img_train_path, target_size=(256,256), batch_size=BATCH_SIZE, subset='validation')\n",
    "test_generator = test_gen.flow_from_directory(img_test_path, target_size=(256,256), batch_size=BATCH_SIZE)"
   ]
  },
  {
   "cell_type": "code",
   "execution_count": 4,
   "metadata": {
    "colab": {
     "base_uri": "https://localhost:8080/"
    },
    "execution": {
     "iopub.execute_input": "2023-03-14T02:51:46.440824Z",
     "iopub.status.busy": "2023-03-14T02:51:46.440618Z",
     "iopub.status.idle": "2023-03-14T02:51:46.910500Z",
     "shell.execute_reply": "2023-03-14T02:51:46.909885Z",
     "shell.execute_reply.started": "2023-03-14T02:51:46.440808Z"
    },
    "id": "mOGc8hrXR9sF",
    "outputId": "a3d9c80a-17e1-44f1-9069-c5f3f3f5ee33"
   },
   "outputs": [
    {
     "name": "stdout",
     "output_type": "stream",
     "text": [
      "(128, 256, 256, 3)\n"
     ]
    }
   ],
   "source": [
    "img, _= next(train_generator)\n",
    "print(img.shape)"
   ]
  },
  {
   "cell_type": "code",
   "execution_count": 5,
   "metadata": {
    "execution": {
     "iopub.execute_input": "2023-03-14T02:51:46.912120Z",
     "iopub.status.busy": "2023-03-14T02:51:46.911917Z",
     "iopub.status.idle": "2023-03-14T02:51:46.956054Z",
     "shell.execute_reply": "2023-03-14T02:51:46.955430Z",
     "shell.execute_reply.started": "2023-03-14T02:51:46.912100Z"
    },
    "id": "kzsbM49RTR28"
   },
   "outputs": [
    {
     "name": "stderr",
     "output_type": "stream",
     "text": [
      "2023-03-14 06:18:47.331072: I tensorflow/core/common_runtime/gpu/gpu_device.cc:1613] Created device /job:localhost/replica:0/task:0/device:GPU:0 with 7384 MB memory:  -> device: 0, name: NVIDIA GeForce GTX 1070, pci bus id: 0000:83:00.0, compute capability: 6.1\n"
     ]
    }
   ],
   "source": [
    "model = keras.Sequential()\n",
    "\n",
    "model.add(Conv2D(filters=6, kernel_size=(5, 5), activation='relu', input_shape=(256,256,3), padding = 'Same'))\n",
    "model.add(MaxPooling2D())\n",
    "\n",
    "model.add(Conv2D(filters=16, kernel_size=(5, 5), activation='relu', padding = 'Same'))\n",
    "model.add(MaxPooling2D())\n",
    "\n",
    "\n",
    "\n",
    "\n",
    "\n",
    "model.add(Flatten())\n",
    "\n",
    "model.add(Dense(units=120, activation='relu'))\n",
    "\n",
    "model.add(Dense(units=84, activation='relu'))\n",
    "\n",
    "model.add(Dense(units=2, activation = 'sigmoid'))"
   ]
  },
  {
   "cell_type": "code",
   "execution_count": 6,
   "metadata": {
    "execution": {
     "iopub.execute_input": "2023-03-14T02:51:46.957001Z",
     "iopub.status.busy": "2023-03-14T02:51:46.956811Z",
     "iopub.status.idle": "2023-03-14T02:51:46.963915Z",
     "shell.execute_reply": "2023-03-14T02:51:46.963162Z",
     "shell.execute_reply.started": "2023-03-14T02:51:46.956981Z"
    },
    "id": "RPJFtvOjBzlN"
   },
   "outputs": [],
   "source": [
    "model.compile(loss=keras.losses.categorical_crossentropy, optimizer=keras.optimizers.SGD(), metrics=['accuracy'], jit_compile=True)\n",
    "log_dir=\"logs/fit/\" + datetime.datetime.now().strftime(\"%Y%m%d-%H%M%S\")\n",
    "callbacks_tensorboard = TensorBoard(log_dir=log_dir, histogram_freq=1)\n",
    "# reduce time and overfitting\n",
    "early_stopping = EarlyStopping(monitor='val_loss', patience=5, restore_best_weights=True)"
   ]
  },
  {
   "cell_type": "code",
   "execution_count": 7,
   "metadata": {
    "colab": {
     "base_uri": "https://localhost:8080/"
    },
    "execution": {
     "iopub.execute_input": "2023-03-14T02:51:46.964809Z",
     "iopub.status.busy": "2023-03-14T02:51:46.964617Z",
     "iopub.status.idle": "2023-03-14T02:51:46.982943Z",
     "shell.execute_reply": "2023-03-14T02:51:46.982398Z",
     "shell.execute_reply.started": "2023-03-14T02:51:46.964790Z"
    },
    "id": "S5RuhZshTUdL",
    "outputId": "946b06d3-a5fa-4e3f-a6c0-ca50ce30d595"
   },
   "outputs": [
    {
     "name": "stdout",
     "output_type": "stream",
     "text": [
      "Model: \"sequential\"\n",
      "_________________________________________________________________\n",
      " Layer (type)                Output Shape              Param #   \n",
      "=================================================================\n",
      " conv2d (Conv2D)             (None, 256, 256, 6)       456       \n",
      "                                                                 \n",
      " max_pooling2d (MaxPooling2D  (None, 128, 128, 6)      0         \n",
      " )                                                               \n",
      "                                                                 \n",
      " conv2d_1 (Conv2D)           (None, 128, 128, 16)      2416      \n",
      "                                                                 \n",
      " max_pooling2d_1 (MaxPooling  (None, 64, 64, 16)       0         \n",
      " 2D)                                                             \n",
      "                                                                 \n",
      " flatten (Flatten)           (None, 65536)             0         \n",
      "                                                                 \n",
      " dense (Dense)               (None, 120)               7864440   \n",
      "                                                                 \n",
      " dense_1 (Dense)             (None, 84)                10164     \n",
      "                                                                 \n",
      " dense_2 (Dense)             (None, 2)                 170       \n",
      "                                                                 \n",
      "=================================================================\n",
      "Total params: 7,877,646\n",
      "Trainable params: 7,877,646\n",
      "Non-trainable params: 0\n",
      "_________________________________________________________________\n"
     ]
    }
   ],
   "source": [
    "model.summary()"
   ]
  },
  {
   "cell_type": "code",
   "execution_count": null,
   "metadata": {
    "colab": {
     "base_uri": "https://localhost:8080/"
    },
    "execution": {
     "iopub.execute_input": "2023-03-14T03:08:20.789924Z",
     "iopub.status.busy": "2023-03-14T03:08:20.788857Z",
     "iopub.status.idle": "2023-03-14T03:19:01.540788Z",
     "shell.execute_reply": "2023-03-14T03:19:01.539961Z",
     "shell.execute_reply.started": "2023-03-14T03:08:20.789894Z"
    },
    "id": "gTdhKs31TYTD",
    "outputId": "d7d7e4e4-d30f-4d3e-cb05-7690a1086d34"
   },
   "outputs": [
    {
     "name": "stdout",
     "output_type": "stream",
     "text": [
      "Epoch 1/10\n"
     ]
    },
    {
     "name": "stderr",
     "output_type": "stream",
     "text": [
      "2023-03-14 06:18:49.528698: I tensorflow/compiler/xla/service/service.cc:173] XLA service 0x1a6aba90 initialized for platform CUDA (this does not guarantee that XLA will be used). Devices:\n",
      "2023-03-14 06:18:49.528772: I tensorflow/compiler/xla/service/service.cc:181]   StreamExecutor device (0): NVIDIA GeForce GTX 1070, Compute Capability 6.1\n",
      "2023-03-14 06:18:49.560765: I tensorflow/compiler/mlir/tensorflow/utils/dump_mlir_util.cc:268] disabling MLIR crash reproducer, set env var `MLIR_CRASH_REPRODUCER_DIRECTORY` to enable.\n",
      "2023-03-14 06:18:50.183777: I tensorflow/compiler/xla/stream_executor/cuda/cuda_dnn.cc:428] Loaded cuDNN version 8100\n",
      "2023-03-14 06:18:52.359822: I tensorflow/compiler/xla/stream_executor/cuda/cuda_dnn.cc:5340] Disabling cuDNN frontend for the following convolution:\n",
      "  input: {count: 128 feature_map_count: 3 spatial: 256 256  value_min: 0.000000 value_max: 0.000000 layout: BatchDepthYX}\n",
      "  filter: {output_feature_map_count: 6 input_feature_map_count: 3 layout: OutputInputYX shape: 5 5 }\n",
      "  {zero_padding: 2 2  pad_alignment: default filter_strides: 1 1  dilation_rates: 1 1 }\n",
      "  ... because it uses an identity activation.\n",
      "2023-03-14 06:18:52.491566: I tensorflow/compiler/xla/stream_executor/cuda/cuda_dnn.cc:5340] Disabling cuDNN frontend for the following convolution:\n",
      "  input: {count: 128 feature_map_count: 6 spatial: 128 128  value_min: 0.000000 value_max: 0.000000 layout: BatchDepthYX}\n",
      "  filter: {output_feature_map_count: 16 input_feature_map_count: 6 layout: OutputInputYX shape: 5 5 }\n",
      "  {zero_padding: 2 2  pad_alignment: default filter_strides: 1 1  dilation_rates: 1 1 }\n",
      "  ... because it uses an identity activation.\n"
     ]
    },
    {
     "name": "stdout",
     "output_type": "stream",
     "text": [
      "\r",
      "  1/118 [..............................] - ETA: 10:32 - loss: 0.7561 - accuracy: 0.4219"
     ]
    },
    {
     "name": "stderr",
     "output_type": "stream",
     "text": [
      "2023-03-14 06:18:53.703304: I tensorflow/compiler/jit/xla_compilation_cache.cc:477] Compiled cluster using XLA!  This line is logged at most once for the lifetime of the process.\n"
     ]
    },
    {
     "name": "stdout",
     "output_type": "stream",
     "text": [
      " 89/118 [=====================>........] - ETA: 8s - loss: 0.5643 - accuracy: 0.7172"
     ]
    }
   ],
   "source": [
    "steps_per_epoch = train_generator.labels.shape[0]//BATCH_SIZE\n",
    "validation_steps = validation_generator.labels.shape[0]//BATCH_SIZE\n",
    "\n",
    "model.fit(train_generator, steps_per_epoch=steps_per_epoch, epochs=10, \n",
    "                    validation_data=validation_generator, validation_steps=validation_steps, \n",
    "                    shuffle=True, callbacks=[callbacks_tensorboard, early_stopping])"
   ]
  },
  {
   "cell_type": "code",
   "execution_count": null,
   "metadata": {
    "colab": {
     "base_uri": "https://localhost:8080/",
     "height": 649
    },
    "execution": {
     "iopub.status.busy": "2023-03-14T02:52:49.692898Z",
     "iopub.status.idle": "2023-03-14T02:52:49.693167Z",
     "shell.execute_reply": "2023-03-14T02:52:49.693055Z",
     "shell.execute_reply.started": "2023-03-14T02:52:49.693044Z"
    },
    "id": "yDj_fU7YTdvF",
    "outputId": "11f31c4f-d24c-4e85-971d-e0bc3a4eb429"
   },
   "outputs": [],
   "source": [
    "img, _= next(validation_generator)\n",
    "plt.figure(figsize=(15, 13))\n",
    "result = model.predict(img)\n",
    "for i in range(30):\n",
    "    ax = plt.subplot(6, 6, i + 1)\n",
    "    plt.imshow(img[i])\n",
    "    if result[i][1] < 0.5:\n",
    "        pred = 0\n",
    "        if pred == _[i][1]:\n",
    "            plt.title(\"Organic\", color='green')\n",
    "        else: \n",
    "            plt.title(\"Organic\", color='red')\n",
    "    else:\n",
    "        pred = 1\n",
    "        if pred == _[i][1]:\n",
    "            plt.title(\"Non-Organic\", color='green')\n",
    "        else: \n",
    "            plt.title(\"Non-Organic\", color='red')\n",
    "    plt.axis(\"off\")"
   ]
  },
  {
   "cell_type": "code",
   "execution_count": null,
   "metadata": {
    "execution": {
     "iopub.execute_input": "2023-03-14T03:24:14.204274Z",
     "iopub.status.busy": "2023-03-14T03:24:14.203422Z",
     "iopub.status.idle": "2023-03-14T03:24:26.419665Z",
     "shell.execute_reply": "2023-03-14T03:24:26.418914Z",
     "shell.execute_reply.started": "2023-03-14T03:24:14.204245Z"
    }
   },
   "outputs": [],
   "source": [
    "results = model.evaluate(test_generator)\n",
    "print(\"test loss, test acc:\", results)"
   ]
  },
  {
   "cell_type": "code",
   "execution_count": null,
   "metadata": {
    "execution": {
     "iopub.status.busy": "2023-03-14T02:52:49.694636Z",
     "iopub.status.idle": "2023-03-14T02:52:49.694874Z",
     "shell.execute_reply": "2023-03-14T02:52:49.694771Z",
     "shell.execute_reply.started": "2023-03-14T02:52:49.694757Z"
    },
    "id": "05WZKn0kTbml"
   },
   "outputs": [],
   "source": [
    "# %tensorboard --logdir logs/fit"
   ]
  }
 ],
 "metadata": {
  "colab": {
   "provenance": []
  },
  "kernelspec": {
   "display_name": "Python 3 (ipykernel)",
   "language": "python",
   "name": "python3"
  },
  "language_info": {
   "codemirror_mode": {
    "name": "ipython",
    "version": 3
   },
   "file_extension": ".py",
   "mimetype": "text/x-python",
   "name": "python",
   "nbconvert_exporter": "python",
   "pygments_lexer": "ipython3",
   "version": "3.8.10"
  }
 },
 "nbformat": 4,
 "nbformat_minor": 4
}
