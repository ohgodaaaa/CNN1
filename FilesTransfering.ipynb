{
 "cells": [
  {
   "cell_type": "code",
   "execution_count": 1,
   "id": "dd41b65e-ccd4-43eb-ac61-c301a339d5c1",
   "metadata": {
    "execution": {
     "iopub.execute_input": "2023-03-21T03:55:05.102093Z",
     "iopub.status.busy": "2023-03-21T03:55:05.101757Z",
     "iopub.status.idle": "2023-03-21T03:55:15.146524Z",
     "shell.execute_reply": "2023-03-21T03:55:15.145842Z",
     "shell.execute_reply.started": "2023-03-21T03:55:05.102064Z"
    }
   },
   "outputs": [
    {
     "name": "stdout",
     "output_type": "stream",
     "text": [
      "num_train: 12565\n",
      "successful\n"
     ]
    }
   ],
   "source": [
    "import os\n",
    "import random\n",
    "import shutil\n",
    "from shutil import copy\n",
    "trainfiles = os.listdir('/notebooks/DATASET/TRAIN/O')\n",
    "num_train = len(trainfiles)\n",
    "print( \"num_train: \" + str(num_train) )\n",
    "index_list = list(range(num_train))\n",
    "random.Random(14).shuffle(index_list)\n",
    "num = 0\n",
    "validDir1 = '/notebooks/DATASET/CROSS/SET1/O'\n",
    "validDir2 = '/notebooks/DATASET/CROSS/SET2/O'\n",
    "validDir3 = '/notebooks/DATASET/CROSS/SET3/O'\n",
    "for i in index_list:\n",
    "    fileName = os.path.join('/notebooks/DATASET/TRAIN/O', trainfiles[i])\n",
    "    if num < num_train*0.33:\n",
    "        copy(fileName, validDir1)\n",
    "    elif num < num_train*0.67:\n",
    "        copy(fileName, validDir2)\n",
    "    else:\n",
    "        copy(fileName, validDir3)\n",
    "    if num == num_train - 1:\n",
    "        print('successful')\n",
    "    num += 1\n"
   ]
  },
  {
   "cell_type": "code",
   "execution_count": 2,
   "id": "3ec82360-4cb4-495a-90d8-c6d80ce470ee",
   "metadata": {
    "execution": {
     "iopub.execute_input": "2023-03-21T03:55:15.148869Z",
     "iopub.status.busy": "2023-03-21T03:55:15.148018Z",
     "iopub.status.idle": "2023-03-21T03:55:23.580352Z",
     "shell.execute_reply": "2023-03-21T03:55:23.579335Z",
     "shell.execute_reply.started": "2023-03-21T03:55:15.148869Z"
    }
   },
   "outputs": [
    {
     "name": "stdout",
     "output_type": "stream",
     "text": [
      "num_train: 9999\n",
      "successful\n"
     ]
    }
   ],
   "source": [
    "import os\n",
    "import random\n",
    "import shutil\n",
    "from shutil import copy\n",
    "trainfiles = os.listdir('/notebooks/DATASET/TRAIN/R')\n",
    "num_train = len(trainfiles)\n",
    "print( \"num_train: \" + str(num_train) )\n",
    "index_list = list(range(num_train))\n",
    "random.Random(14).shuffle(index_list)\n",
    "num = 0\n",
    "validDir1 = '/notebooks/DATASET/CROSS/SET1/R'\n",
    "validDir2 = '/notebooks/DATASET/CROSS/SET2/R'\n",
    "validDir3 = '/notebooks/DATASET/CROSS/SET3/R'\n",
    "for i in index_list:\n",
    "    fileName = os.path.join('/notebooks/DATASET/TRAIN/R', trainfiles[i])\n",
    "    if num < num_train*0.33:\n",
    "        copy(fileName, validDir1)\n",
    "    elif num < num_train*0.67:\n",
    "        copy(fileName, validDir2)\n",
    "    else:\n",
    "        copy(fileName, validDir3)\n",
    "    if num == num_train - 1:\n",
    "        print('successful')\n",
    "    num += 1\n"
   ]
  },
  {
   "cell_type": "code",
   "execution_count": 1,
   "id": "9de0c8d8-7789-444d-bcfe-faad76b53ab9",
   "metadata": {
    "execution": {
     "iopub.execute_input": "2023-03-21T04:54:33.190644Z",
     "iopub.status.busy": "2023-03-21T04:54:33.190316Z",
     "iopub.status.idle": "2023-03-21T04:55:08.776018Z",
     "shell.execute_reply": "2023-03-21T04:55:08.775059Z",
     "shell.execute_reply.started": "2023-03-21T04:54:33.190619Z"
    }
   },
   "outputs": [
    {
     "name": "stdout",
     "output_type": "stream",
     "text": [
      "num_train: 12565\n",
      "successful\n"
     ]
    }
   ],
   "source": [
    "import os\n",
    "import random\n",
    "import shutil\n",
    "from shutil import copy\n",
    "trainfiles = os.listdir('/notebooks/DATASET/TRAIN/O')\n",
    "num_train = len(trainfiles)\n",
    "print( \"num_train: \" + str(num_train) )\n",
    "index_list = list(range(num_train))\n",
    "random.Random(14).shuffle(index_list)\n",
    "num = 0\n",
    "validDir1 = '/notebooks/DATASET/CROSS/SET1_SET2/O'\n",
    "validDir2 = '/notebooks/DATASET/CROSS/SET1_SET3/O'\n",
    "validDir3 = '/notebooks/DATASET/CROSS/SET2_SET3/O'\n",
    "for i in index_list:\n",
    "    fileName = os.path.join('/notebooks/DATASET/TRAIN/O', trainfiles[i])\n",
    "    if num < num_train*0.33:\n",
    "        copy(fileName, validDir1)\n",
    "        copy(fileName, validDir2)\n",
    "    elif num < num_train*0.67:\n",
    "        copy(fileName, validDir1)\n",
    "        copy(fileName, validDir3)\n",
    "    else:\n",
    "        copy(fileName, validDir2)\n",
    "        copy(fileName, validDir3)\n",
    "    if num == num_train - 1:\n",
    "        print('successful')\n",
    "    num += 1\n"
   ]
  },
  {
   "cell_type": "code",
   "execution_count": 2,
   "id": "69e6f1a2-4fa0-4976-aad7-cb1800a4dd37",
   "metadata": {
    "execution": {
     "iopub.execute_input": "2023-03-21T04:55:13.532827Z",
     "iopub.status.busy": "2023-03-21T04:55:13.532426Z",
     "iopub.status.idle": "2023-03-21T04:55:44.738557Z",
     "shell.execute_reply": "2023-03-21T04:55:44.737771Z",
     "shell.execute_reply.started": "2023-03-21T04:55:13.532799Z"
    }
   },
   "outputs": [
    {
     "name": "stdout",
     "output_type": "stream",
     "text": [
      "num_train: 9999\n",
      "successful\n"
     ]
    }
   ],
   "source": [
    "import os\n",
    "import random\n",
    "import shutil\n",
    "from shutil import copy\n",
    "trainfiles = os.listdir('/notebooks/DATASET/TRAIN/R')\n",
    "num_train = len(trainfiles)\n",
    "print( \"num_train: \" + str(num_train) )\n",
    "index_list = list(range(num_train))\n",
    "random.Random(14).shuffle(index_list)\n",
    "num = 0\n",
    "validDir1 = '/notebooks/DATASET/CROSS/SET1_SET2/R'\n",
    "validDir2 = '/notebooks/DATASET/CROSS/SET1_SET3/R'\n",
    "validDir3 = '/notebooks/DATASET/CROSS/SET2_SET3/R'\n",
    "for i in index_list:\n",
    "    fileName = os.path.join('/notebooks/DATASET/TRAIN/R', trainfiles[i])\n",
    "    if num < num_train*0.33:\n",
    "        copy(fileName, validDir1)\n",
    "        copy(fileName, validDir2)\n",
    "    elif num < num_train*0.67:\n",
    "        copy(fileName, validDir1)\n",
    "        copy(fileName, validDir3)\n",
    "    else:\n",
    "        copy(fileName, validDir2)\n",
    "        copy(fileName, validDir3)\n",
    "    if num == num_train - 1:\n",
    "        print('successful')\n",
    "    num += 1\n"
   ]
  }
 ],
 "metadata": {
  "kernelspec": {
   "display_name": "Python 3 (ipykernel)",
   "language": "python",
   "name": "python3"
  },
  "language_info": {
   "codemirror_mode": {
    "name": "ipython",
    "version": 3
   },
   "file_extension": ".py",
   "mimetype": "text/x-python",
   "name": "python",
   "nbconvert_exporter": "python",
   "pygments_lexer": "ipython3",
   "version": "3.9.16"
  }
 },
 "nbformat": 4,
 "nbformat_minor": 5
}
