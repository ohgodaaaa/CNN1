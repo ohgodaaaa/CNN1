{
 "cells": [
  {
   "cell_type": "code",
   "execution_count": 11,
   "metadata": {
    "execution": {
     "iopub.execute_input": "2023-03-13T20:52:53.174749Z",
     "iopub.status.busy": "2023-03-13T20:52:53.174075Z",
     "iopub.status.idle": "2023-03-13T20:52:53.178509Z",
     "shell.execute_reply": "2023-03-13T20:52:53.177896Z",
     "shell.execute_reply.started": "2023-03-13T20:52:53.174724Z"
    },
    "id": "2ESUdcEBIEHz"
   },
   "outputs": [
    {
     "name": "stdout",
     "output_type": "stream",
     "text": [
      "The tensorboard extension is already loaded. To reload it, use:\n",
      "  %reload_ext tensorboard\n"
     ]
    }
   ],
   "source": [
    "%load_ext tensorboard"
   ]
  },
  {
   "cell_type": "code",
   "execution_count": 12,
   "metadata": {
    "execution": {
     "iopub.execute_input": "2023-03-13T20:52:53.179723Z",
     "iopub.status.busy": "2023-03-13T20:52:53.179548Z",
     "iopub.status.idle": "2023-03-13T20:52:53.184137Z",
     "shell.execute_reply": "2023-03-13T20:52:53.183491Z",
     "shell.execute_reply.started": "2023-03-13T20:52:53.179705Z"
    },
    "id": "b8MlenhxApmx"
   },
   "outputs": [],
   "source": [
    "import datetime\n",
    "import numpy as np\n",
    "import tensorflow as tf\n",
    "import matplotlib.pyplot as plt\n",
    "import os\n",
    "\n",
    "\n",
    "import keras\n",
    "from keras import Model\n",
    "import keras.layers as layers\n",
    "from keras.models import Sequential\n",
    "from keras.losses import categorical_crossentropy\n",
    "from keras.layers import Input, Conv2D, MaxPooling2D, AveragePooling2D, Flatten, GlobalAveragePooling2D, Dense, Dropout, Concatenate\n",
    "from keras.callbacks import TensorBoard, EarlyStopping\n",
    "from keras.utils import image_dataset_from_directory\n",
    "from keras.preprocessing.image import ImageDataGenerator\n",
    "\n",
    "from keras import datasets\n",
    "from keras.utils import to_categorical\n",
    "\n",
    "from __future__ import absolute_import, division, print_function, unicode_literals"
   ]
  },
  {
   "cell_type": "code",
   "execution_count": 13,
   "metadata": {
    "colab": {
     "base_uri": "https://localhost:8080/"
    },
    "execution": {
     "iopub.execute_input": "2023-03-13T20:52:53.185352Z",
     "iopub.status.busy": "2023-03-13T20:52:53.185166Z",
     "iopub.status.idle": "2023-03-13T20:52:53.820430Z",
     "shell.execute_reply": "2023-03-13T20:52:53.819759Z",
     "shell.execute_reply.started": "2023-03-13T20:52:53.185334Z"
    },
    "id": "TQfmgR7qTGSi",
    "outputId": "22c954c8-e88c-444a-ae0e-0056ea92ca64"
   },
   "outputs": [
    {
     "name": "stdout",
     "output_type": "stream",
     "text": [
      "Found 22564 images belonging to 2 classes.\n",
      "Found 2513 images belonging to 2 classes.\n"
     ]
    }
   ],
   "source": [
    "img_train_path = os.path.join(\"DATASET\",\"TRAIN\")\n",
    "img_test_path = os.path.join(\"DATASET\",\"TEST\")\n",
    "data_gen = ImageDataGenerator(rescale=1./255, fill_mode='reflect')\n",
    "val_gen = ImageDataGenerator(rescale=1./255)\n",
    "BATCH_SIZE = 128\n",
    "\n",
    "train_generator = data_gen.flow_from_directory(img_train_path, target_size=(256,256), batch_size=BATCH_SIZE)\n",
    "validation_generator = val_gen.flow_from_directory(img_test_path, target_size=(256,256), batch_size=BATCH_SIZE)"
   ]
  },
  {
   "cell_type": "code",
   "execution_count": 14,
   "metadata": {
    "colab": {
     "base_uri": "https://localhost:8080/"
    },
    "execution": {
     "iopub.execute_input": "2023-03-13T20:52:53.822150Z",
     "iopub.status.busy": "2023-03-13T20:52:53.821821Z",
     "iopub.status.idle": "2023-03-13T20:52:54.386146Z",
     "shell.execute_reply": "2023-03-13T20:52:54.385336Z",
     "shell.execute_reply.started": "2023-03-13T20:52:53.822127Z"
    },
    "id": "mOGc8hrXR9sF",
    "outputId": "a3d9c80a-17e1-44f1-9069-c5f3f3f5ee33"
   },
   "outputs": [
    {
     "name": "stdout",
     "output_type": "stream",
     "text": [
      "(128, 256, 256, 3)\n"
     ]
    }
   ],
   "source": [
    "img, _= next(train_generator)\n",
    "print(img.shape)"
   ]
  },
  {
   "cell_type": "code",
   "execution_count": 15,
   "metadata": {
    "execution": {
     "iopub.execute_input": "2023-03-13T20:52:54.387182Z",
     "iopub.status.busy": "2023-03-13T20:52:54.386984Z",
     "iopub.status.idle": "2023-03-13T20:52:54.392707Z",
     "shell.execute_reply": "2023-03-13T20:52:54.392021Z",
     "shell.execute_reply.started": "2023-03-13T20:52:54.387163Z"
    }
   },
   "outputs": [],
   "source": [
    "def Inception_block(input_layer, f1, f2_conv1, f2_conv3, f3_conv1, f3_conv5, f4): \n",
    "  # Input: \n",
    "  # - f1: number of filters of the 1x1 convolutional layer in the first path\n",
    "  # - f2_conv1, f2_conv3 are number of filters corresponding to the 1x1 and 3x3 convolutional layers in the second path\n",
    "  # - f3_conv1, f3_conv5 are the number of filters corresponding to the 1x1 and 5x5  convolutional layer in the third path\n",
    "  # - f4: number of filters of the 1x1 convolutional layer in the fourth path\n",
    "\n",
    "  # 1st path:\n",
    "  path1 = Conv2D(filters=f1, kernel_size = (1,1), padding = 'same', activation = 'relu')(input_layer)\n",
    "\n",
    "  # 2nd path\n",
    "  path2 = Conv2D(filters = f2_conv1, kernel_size = (1,1), padding = 'same', activation = 'relu')(input_layer)\n",
    "  path2 = Conv2D(filters = f2_conv3, kernel_size = (3,3), padding = 'same', activation = 'relu')(path2)\n",
    "\n",
    "  # 3rd path\n",
    "  path3 = Conv2D(filters = f3_conv1, kernel_size = (1,1), padding = 'same', activation = 'relu')(input_layer)\n",
    "  path3 = Conv2D(filters = f3_conv5, kernel_size = (5,5), padding = 'same', activation = 'relu')(path3)\n",
    "\n",
    "  # 4th path\n",
    "  path4 = MaxPooling2D((3,3), strides= (1,1), padding = 'same')(input_layer)\n",
    "  path4 = Conv2D(filters = f4, kernel_size = (1,1), padding = 'same', activation = 'relu')(path4)\n",
    "\n",
    "  output_layer = Concatenate(axis = -1)([path1, path2, path3, path4])\n",
    "\n",
    "  return output_layer"
   ]
  },
  {
   "cell_type": "code",
   "execution_count": 16,
   "metadata": {
    "execution": {
     "iopub.execute_input": "2023-03-13T20:52:54.394454Z",
     "iopub.status.busy": "2023-03-13T20:52:54.394260Z",
     "iopub.status.idle": "2023-03-13T20:52:54.405526Z",
     "shell.execute_reply": "2023-03-13T20:52:54.404780Z",
     "shell.execute_reply.started": "2023-03-13T20:52:54.394435Z"
    },
    "id": "kzsbM49RTR28"
   },
   "outputs": [],
   "source": [
    "def GoogLeNet():\n",
    "  # input layer \n",
    "  input_layer = Input(shape = (256, 256, 3))\n",
    "\n",
    "  # convolutional layer: filters = 64, kernel_size = (7,7), strides = 2\n",
    "  X = Conv2D(filters = 64, kernel_size = (7,7), strides = 2, padding = 'valid', activation = 'relu')(input_layer)\n",
    "\n",
    "  # max-pooling layer: pool_size = (3,3), strides = 2\n",
    "  X = MaxPooling2D(pool_size = (3,3), strides = 2)(X)\n",
    "\n",
    "  # convolutional layer: filters = 64, strides = 1\n",
    "  X = Conv2D(filters = 64, kernel_size = (1,1), strides = 1, padding = 'same', activation = 'relu')(X)\n",
    "\n",
    "  # convolutional layer: filters = 192, kernel_size = (3,3)\n",
    "  X = Conv2D(filters = 192, kernel_size = (3,3), padding = 'same', activation = 'relu')(X)\n",
    "\n",
    "  # max-pooling layer: pool_size = (3,3), strides = 2\n",
    "  X = MaxPooling2D(pool_size= (3,3), strides = 2)(X)\n",
    "\n",
    "  # 1st Inception block\n",
    "  X = Inception_block(X, f1 = 64, f2_conv1 = 96, f2_conv3 = 128, f3_conv1 = 16, f3_conv5 = 32, f4 = 32)\n",
    "\n",
    "  # 2nd Inception block\n",
    "  X = Inception_block(X, f1 = 128, f2_conv1 = 128, f2_conv3 = 192, f3_conv1 = 32, f3_conv5 = 96, f4 = 64)\n",
    "\n",
    "  # max-pooling layer: pool_size = (3,3), strides = 2\n",
    "  X = MaxPooling2D(pool_size= (3,3), strides = 2)(X)\n",
    "\n",
    "  # 3rd Inception block\n",
    "  X = Inception_block(X, f1 = 192, f2_conv1 = 96, f2_conv3 = 208, f3_conv1 = 16, f3_conv5 = 48, f4 = 64)\n",
    "\n",
    "  # Extra network 1:\n",
    "  X1 = AveragePooling2D(pool_size = (5,5), strides = 3)(X)\n",
    "  X1 = Conv2D(filters = 128, kernel_size = (1,1), padding = 'same', activation = 'relu')(X1)\n",
    "  X1 = Flatten()(X1)\n",
    "  X1 = Dense(1024, activation = 'relu')(X1)\n",
    "  X1 = Dropout(0.7)(X1)\n",
    "  X1 = Dense(2, activation = 'softmax')(X1)\n",
    "\n",
    "  \n",
    "  # 4th Inception block\n",
    "  X = Inception_block(X, f1 = 160, f2_conv1 = 112, f2_conv3 = 224, f3_conv1 = 24, f3_conv5 = 64, f4 = 64)\n",
    "\n",
    "  # 5th Inception block\n",
    "  X = Inception_block(X, f1 = 128, f2_conv1 = 128, f2_conv3 = 256, f3_conv1 = 24, f3_conv5 = 64, f4 = 64)\n",
    "\n",
    "  # 6th Inception block\n",
    "  X = Inception_block(X, f1 = 112, f2_conv1 = 144, f2_conv3 = 288, f3_conv1 = 32, f3_conv5 = 64, f4 = 64)\n",
    "\n",
    "  # Extra network 2:\n",
    "  X2 = AveragePooling2D(pool_size = (5,5), strides = 3)(X)\n",
    "  X2 = Conv2D(filters = 128, kernel_size = (1,1), padding = 'same', activation = 'relu')(X2)\n",
    "  X2 = Flatten()(X2)\n",
    "  X2 = Dense(1024, activation = 'relu')(X2)\n",
    "  X2 = Dropout(0.7)(X2)\n",
    "  X2 = Dense(2, activation = 'softmax')(X2)\n",
    "  \n",
    "  \n",
    "  # 7th Inception block\n",
    "  X = Inception_block(X, f1 = 256, f2_conv1 = 160, f2_conv3 = 320, f3_conv1 = 32, \n",
    "                      f3_conv5 = 128, f4 = 128)\n",
    "\n",
    "  # max-pooling layer: pool_size = (3,3), strides = 2\n",
    "  X = MaxPooling2D(pool_size = (3,3), strides = 2)(X)\n",
    "\n",
    "  # 8th Inception block\n",
    "  X = Inception_block(X, f1 = 256, f2_conv1 = 160, f2_conv3 = 320, f3_conv1 = 32, f3_conv5 = 128, f4 = 128)\n",
    "\n",
    "  # 9th Inception block\n",
    "  X = Inception_block(X, f1 = 384, f2_conv1 = 192, f2_conv3 = 384, f3_conv1 = 48, f3_conv5 = 128, f4 = 128)\n",
    "\n",
    "  # Global Average pooling layer \n",
    "  X = GlobalAveragePooling2D(name = 'GAPL')(X)\n",
    "\n",
    "  # Dropoutlayer \n",
    "  X = Dropout(0.4)(X)\n",
    "\n",
    "  # output layer \n",
    "  X = Dense(2, activation = 'softmax')(X)\n",
    "  \n",
    "  # model\n",
    "  model = Model(input_layer, [X, X1, X2], name = 'GoogLeNet')\n",
    "\n",
    "  return model"
   ]
  },
  {
   "cell_type": "code",
   "execution_count": 17,
   "metadata": {
    "execution": {
     "iopub.execute_input": "2023-03-13T20:52:54.406326Z",
     "iopub.status.busy": "2023-03-13T20:52:54.406132Z",
     "iopub.status.idle": "2023-03-13T20:52:54.819156Z",
     "shell.execute_reply": "2023-03-13T20:52:54.818372Z",
     "shell.execute_reply.started": "2023-03-13T20:52:54.406307Z"
    },
    "id": "RPJFtvOjBzlN"
   },
   "outputs": [],
   "source": [
    "model = GoogLeNet()\n",
    "model.compile(loss=keras.losses.categorical_crossentropy, optimizer=keras.optimizers.Adam(), metrics=['accuracy'], jit_compile=True)\n",
    "log_dir=\"logs/fit/\" + datetime.datetime.now().strftime(\"%Y%m%d-%H%M%S\")\n",
    "callbacks_tensorboard = TensorBoard(log_dir=log_dir, histogram_freq=1)\n",
    "# reduce time and overfitting\n",
    "early_stopping = EarlyStopping(monitor='val_loss', patience=5, restore_best_weights=True)"
   ]
  },
  {
   "cell_type": "code",
   "execution_count": 18,
   "metadata": {
    "colab": {
     "base_uri": "https://localhost:8080/"
    },
    "execution": {
     "iopub.execute_input": "2023-03-13T20:52:54.820112Z",
     "iopub.status.busy": "2023-03-13T20:52:54.819928Z",
     "iopub.status.idle": "2023-03-13T20:52:54.926149Z",
     "shell.execute_reply": "2023-03-13T20:52:54.925278Z",
     "shell.execute_reply.started": "2023-03-13T20:52:54.820093Z"
    },
    "id": "S5RuhZshTUdL",
    "outputId": "946b06d3-a5fa-4e3f-a6c0-ca50ce30d595"
   },
   "outputs": [
    {
     "name": "stdout",
     "output_type": "stream",
     "text": [
      "Model: \"GoogLeNet\"\n",
      "__________________________________________________________________________________________________\n",
      " Layer (type)                   Output Shape         Param #     Connected to                     \n",
      "==================================================================================================\n",
      " input_3 (InputLayer)           [(None, 256, 256, 3  0           []                               \n",
      "                                )]                                                                \n",
      "                                                                                                  \n",
      " conv2d_118 (Conv2D)            (None, 125, 125, 64  9472        ['input_3[0][0]']                \n",
      "                                )                                                                 \n",
      "                                                                                                  \n",
      " max_pooling2d_26 (MaxPooling2D  (None, 62, 62, 64)  0           ['conv2d_118[0][0]']             \n",
      " )                                                                                                \n",
      "                                                                                                  \n",
      " conv2d_119 (Conv2D)            (None, 62, 62, 64)   4160        ['max_pooling2d_26[0][0]']       \n",
      "                                                                                                  \n",
      " conv2d_120 (Conv2D)            (None, 62, 62, 192)  110784      ['conv2d_119[0][0]']             \n",
      "                                                                                                  \n",
      " max_pooling2d_27 (MaxPooling2D  (None, 30, 30, 192)  0          ['conv2d_120[0][0]']             \n",
      " )                                                                                                \n",
      "                                                                                                  \n",
      " conv2d_122 (Conv2D)            (None, 30, 30, 96)   18528       ['max_pooling2d_27[0][0]']       \n",
      "                                                                                                  \n",
      " conv2d_124 (Conv2D)            (None, 30, 30, 16)   3088        ['max_pooling2d_27[0][0]']       \n",
      "                                                                                                  \n",
      " max_pooling2d_28 (MaxPooling2D  (None, 30, 30, 192)  0          ['max_pooling2d_27[0][0]']       \n",
      " )                                                                                                \n",
      "                                                                                                  \n",
      " conv2d_121 (Conv2D)            (None, 30, 30, 64)   12352       ['max_pooling2d_27[0][0]']       \n",
      "                                                                                                  \n",
      " conv2d_123 (Conv2D)            (None, 30, 30, 128)  110720      ['conv2d_122[0][0]']             \n",
      "                                                                                                  \n",
      " conv2d_125 (Conv2D)            (None, 30, 30, 32)   12832       ['conv2d_124[0][0]']             \n",
      "                                                                                                  \n",
      " conv2d_126 (Conv2D)            (None, 30, 30, 32)   6176        ['max_pooling2d_28[0][0]']       \n",
      "                                                                                                  \n",
      " concatenate_18 (Concatenate)   (None, 30, 30, 256)  0           ['conv2d_121[0][0]',             \n",
      "                                                                  'conv2d_123[0][0]',             \n",
      "                                                                  'conv2d_125[0][0]',             \n",
      "                                                                  'conv2d_126[0][0]']             \n",
      "                                                                                                  \n",
      " conv2d_128 (Conv2D)            (None, 30, 30, 128)  32896       ['concatenate_18[0][0]']         \n",
      "                                                                                                  \n",
      " conv2d_130 (Conv2D)            (None, 30, 30, 32)   8224        ['concatenate_18[0][0]']         \n",
      "                                                                                                  \n",
      " max_pooling2d_29 (MaxPooling2D  (None, 30, 30, 256)  0          ['concatenate_18[0][0]']         \n",
      " )                                                                                                \n",
      "                                                                                                  \n",
      " conv2d_127 (Conv2D)            (None, 30, 30, 128)  32896       ['concatenate_18[0][0]']         \n",
      "                                                                                                  \n",
      " conv2d_129 (Conv2D)            (None, 30, 30, 192)  221376      ['conv2d_128[0][0]']             \n",
      "                                                                                                  \n",
      " conv2d_131 (Conv2D)            (None, 30, 30, 96)   76896       ['conv2d_130[0][0]']             \n",
      "                                                                                                  \n",
      " conv2d_132 (Conv2D)            (None, 30, 30, 64)   16448       ['max_pooling2d_29[0][0]']       \n",
      "                                                                                                  \n",
      " concatenate_19 (Concatenate)   (None, 30, 30, 480)  0           ['conv2d_127[0][0]',             \n",
      "                                                                  'conv2d_129[0][0]',             \n",
      "                                                                  'conv2d_131[0][0]',             \n",
      "                                                                  'conv2d_132[0][0]']             \n",
      "                                                                                                  \n",
      " max_pooling2d_30 (MaxPooling2D  (None, 14, 14, 480)  0          ['concatenate_19[0][0]']         \n",
      " )                                                                                                \n",
      "                                                                                                  \n",
      " conv2d_134 (Conv2D)            (None, 14, 14, 96)   46176       ['max_pooling2d_30[0][0]']       \n",
      "                                                                                                  \n",
      " conv2d_136 (Conv2D)            (None, 14, 14, 16)   7696        ['max_pooling2d_30[0][0]']       \n",
      "                                                                                                  \n",
      " max_pooling2d_31 (MaxPooling2D  (None, 14, 14, 480)  0          ['max_pooling2d_30[0][0]']       \n",
      " )                                                                                                \n",
      "                                                                                                  \n",
      " conv2d_133 (Conv2D)            (None, 14, 14, 192)  92352       ['max_pooling2d_30[0][0]']       \n",
      "                                                                                                  \n",
      " conv2d_135 (Conv2D)            (None, 14, 14, 208)  179920      ['conv2d_134[0][0]']             \n",
      "                                                                                                  \n",
      " conv2d_137 (Conv2D)            (None, 14, 14, 48)   19248       ['conv2d_136[0][0]']             \n",
      "                                                                                                  \n",
      " conv2d_138 (Conv2D)            (None, 14, 14, 64)   30784       ['max_pooling2d_31[0][0]']       \n",
      "                                                                                                  \n",
      " concatenate_20 (Concatenate)   (None, 14, 14, 512)  0           ['conv2d_133[0][0]',             \n",
      "                                                                  'conv2d_135[0][0]',             \n",
      "                                                                  'conv2d_137[0][0]',             \n",
      "                                                                  'conv2d_138[0][0]']             \n",
      "                                                                                                  \n",
      " conv2d_141 (Conv2D)            (None, 14, 14, 112)  57456       ['concatenate_20[0][0]']         \n",
      "                                                                                                  \n",
      " conv2d_143 (Conv2D)            (None, 14, 14, 24)   12312       ['concatenate_20[0][0]']         \n",
      "                                                                                                  \n",
      " max_pooling2d_32 (MaxPooling2D  (None, 14, 14, 512)  0          ['concatenate_20[0][0]']         \n",
      " )                                                                                                \n",
      "                                                                                                  \n",
      " conv2d_140 (Conv2D)            (None, 14, 14, 160)  82080       ['concatenate_20[0][0]']         \n",
      "                                                                                                  \n",
      " conv2d_142 (Conv2D)            (None, 14, 14, 224)  226016      ['conv2d_141[0][0]']             \n",
      "                                                                                                  \n",
      " conv2d_144 (Conv2D)            (None, 14, 14, 64)   38464       ['conv2d_143[0][0]']             \n",
      "                                                                                                  \n",
      " conv2d_145 (Conv2D)            (None, 14, 14, 64)   32832       ['max_pooling2d_32[0][0]']       \n",
      "                                                                                                  \n",
      " concatenate_21 (Concatenate)   (None, 14, 14, 512)  0           ['conv2d_140[0][0]',             \n",
      "                                                                  'conv2d_142[0][0]',             \n",
      "                                                                  'conv2d_144[0][0]',             \n",
      "                                                                  'conv2d_145[0][0]']             \n",
      "                                                                                                  \n",
      " conv2d_147 (Conv2D)            (None, 14, 14, 128)  65664       ['concatenate_21[0][0]']         \n",
      "                                                                                                  \n",
      " conv2d_149 (Conv2D)            (None, 14, 14, 24)   12312       ['concatenate_21[0][0]']         \n",
      "                                                                                                  \n",
      " max_pooling2d_33 (MaxPooling2D  (None, 14, 14, 512)  0          ['concatenate_21[0][0]']         \n",
      " )                                                                                                \n",
      "                                                                                                  \n",
      " conv2d_146 (Conv2D)            (None, 14, 14, 128)  65664       ['concatenate_21[0][0]']         \n",
      "                                                                                                  \n",
      " conv2d_148 (Conv2D)            (None, 14, 14, 256)  295168      ['conv2d_147[0][0]']             \n",
      "                                                                                                  \n",
      " conv2d_150 (Conv2D)            (None, 14, 14, 64)   38464       ['conv2d_149[0][0]']             \n",
      "                                                                                                  \n",
      " conv2d_151 (Conv2D)            (None, 14, 14, 64)   32832       ['max_pooling2d_33[0][0]']       \n",
      "                                                                                                  \n",
      " concatenate_22 (Concatenate)   (None, 14, 14, 512)  0           ['conv2d_146[0][0]',             \n",
      "                                                                  'conv2d_148[0][0]',             \n",
      "                                                                  'conv2d_150[0][0]',             \n",
      "                                                                  'conv2d_151[0][0]']             \n",
      "                                                                                                  \n",
      " conv2d_153 (Conv2D)            (None, 14, 14, 144)  73872       ['concatenate_22[0][0]']         \n",
      "                                                                                                  \n",
      " conv2d_155 (Conv2D)            (None, 14, 14, 32)   16416       ['concatenate_22[0][0]']         \n",
      "                                                                                                  \n",
      " max_pooling2d_34 (MaxPooling2D  (None, 14, 14, 512)  0          ['concatenate_22[0][0]']         \n",
      " )                                                                                                \n",
      "                                                                                                  \n",
      " conv2d_152 (Conv2D)            (None, 14, 14, 112)  57456       ['concatenate_22[0][0]']         \n",
      "                                                                                                  \n",
      " conv2d_154 (Conv2D)            (None, 14, 14, 288)  373536      ['conv2d_153[0][0]']             \n",
      "                                                                                                  \n",
      " conv2d_156 (Conv2D)            (None, 14, 14, 64)   51264       ['conv2d_155[0][0]']             \n",
      "                                                                                                  \n",
      " conv2d_157 (Conv2D)            (None, 14, 14, 64)   32832       ['max_pooling2d_34[0][0]']       \n",
      "                                                                                                  \n",
      " concatenate_23 (Concatenate)   (None, 14, 14, 528)  0           ['conv2d_152[0][0]',             \n",
      "                                                                  'conv2d_154[0][0]',             \n",
      "                                                                  'conv2d_156[0][0]',             \n",
      "                                                                  'conv2d_157[0][0]']             \n",
      "                                                                                                  \n",
      " conv2d_160 (Conv2D)            (None, 14, 14, 160)  84640       ['concatenate_23[0][0]']         \n",
      "                                                                                                  \n",
      " conv2d_162 (Conv2D)            (None, 14, 14, 32)   16928       ['concatenate_23[0][0]']         \n",
      "                                                                                                  \n",
      " max_pooling2d_35 (MaxPooling2D  (None, 14, 14, 528)  0          ['concatenate_23[0][0]']         \n",
      " )                                                                                                \n",
      "                                                                                                  \n",
      " conv2d_159 (Conv2D)            (None, 14, 14, 256)  135424      ['concatenate_23[0][0]']         \n",
      "                                                                                                  \n",
      " conv2d_161 (Conv2D)            (None, 14, 14, 320)  461120      ['conv2d_160[0][0]']             \n",
      "                                                                                                  \n",
      " conv2d_163 (Conv2D)            (None, 14, 14, 128)  102528      ['conv2d_162[0][0]']             \n",
      "                                                                                                  \n",
      " conv2d_164 (Conv2D)            (None, 14, 14, 128)  67712       ['max_pooling2d_35[0][0]']       \n",
      "                                                                                                  \n",
      " concatenate_24 (Concatenate)   (None, 14, 14, 832)  0           ['conv2d_159[0][0]',             \n",
      "                                                                  'conv2d_161[0][0]',             \n",
      "                                                                  'conv2d_163[0][0]',             \n",
      "                                                                  'conv2d_164[0][0]']             \n",
      "                                                                                                  \n",
      " max_pooling2d_36 (MaxPooling2D  (None, 6, 6, 832)   0           ['concatenate_24[0][0]']         \n",
      " )                                                                                                \n",
      "                                                                                                  \n",
      " conv2d_166 (Conv2D)            (None, 6, 6, 160)    133280      ['max_pooling2d_36[0][0]']       \n",
      "                                                                                                  \n",
      " conv2d_168 (Conv2D)            (None, 6, 6, 32)     26656       ['max_pooling2d_36[0][0]']       \n",
      "                                                                                                  \n",
      " max_pooling2d_37 (MaxPooling2D  (None, 6, 6, 832)   0           ['max_pooling2d_36[0][0]']       \n",
      " )                                                                                                \n",
      "                                                                                                  \n",
      " conv2d_165 (Conv2D)            (None, 6, 6, 256)    213248      ['max_pooling2d_36[0][0]']       \n",
      "                                                                                                  \n",
      " conv2d_167 (Conv2D)            (None, 6, 6, 320)    461120      ['conv2d_166[0][0]']             \n",
      "                                                                                                  \n",
      " conv2d_169 (Conv2D)            (None, 6, 6, 128)    102528      ['conv2d_168[0][0]']             \n",
      "                                                                                                  \n",
      " conv2d_170 (Conv2D)            (None, 6, 6, 128)    106624      ['max_pooling2d_37[0][0]']       \n",
      "                                                                                                  \n",
      " concatenate_25 (Concatenate)   (None, 6, 6, 832)    0           ['conv2d_165[0][0]',             \n",
      "                                                                  'conv2d_167[0][0]',             \n",
      "                                                                  'conv2d_169[0][0]',             \n",
      "                                                                  'conv2d_170[0][0]']             \n",
      "                                                                                                  \n",
      " conv2d_172 (Conv2D)            (None, 6, 6, 192)    159936      ['concatenate_25[0][0]']         \n",
      "                                                                                                  \n",
      " conv2d_174 (Conv2D)            (None, 6, 6, 48)     39984       ['concatenate_25[0][0]']         \n",
      "                                                                                                  \n",
      " max_pooling2d_38 (MaxPooling2D  (None, 6, 6, 832)   0           ['concatenate_25[0][0]']         \n",
      " )                                                                                                \n",
      "                                                                                                  \n",
      " average_pooling2d_4 (AveragePo  (None, 4, 4, 512)   0           ['concatenate_20[0][0]']         \n",
      " oling2D)                                                                                         \n",
      "                                                                                                  \n",
      " average_pooling2d_5 (AveragePo  (None, 4, 4, 528)   0           ['concatenate_23[0][0]']         \n",
      " oling2D)                                                                                         \n",
      "                                                                                                  \n",
      " conv2d_171 (Conv2D)            (None, 6, 6, 384)    319872      ['concatenate_25[0][0]']         \n",
      "                                                                                                  \n",
      " conv2d_173 (Conv2D)            (None, 6, 6, 384)    663936      ['conv2d_172[0][0]']             \n",
      "                                                                                                  \n",
      " conv2d_175 (Conv2D)            (None, 6, 6, 128)    153728      ['conv2d_174[0][0]']             \n",
      "                                                                                                  \n",
      " conv2d_176 (Conv2D)            (None, 6, 6, 128)    106624      ['max_pooling2d_38[0][0]']       \n",
      "                                                                                                  \n",
      " conv2d_139 (Conv2D)            (None, 4, 4, 128)    65664       ['average_pooling2d_4[0][0]']    \n",
      "                                                                                                  \n",
      " conv2d_158 (Conv2D)            (None, 4, 4, 128)    67712       ['average_pooling2d_5[0][0]']    \n",
      "                                                                                                  \n",
      " concatenate_26 (Concatenate)   (None, 6, 6, 1024)   0           ['conv2d_171[0][0]',             \n",
      "                                                                  'conv2d_173[0][0]',             \n",
      "                                                                  'conv2d_175[0][0]',             \n",
      "                                                                  'conv2d_176[0][0]']             \n",
      "                                                                                                  \n",
      " flatten_4 (Flatten)            (None, 2048)         0           ['conv2d_139[0][0]']             \n",
      "                                                                                                  \n",
      " flatten_5 (Flatten)            (None, 2048)         0           ['conv2d_158[0][0]']             \n",
      "                                                                                                  \n",
      " GAPL (GlobalAveragePooling2D)  (None, 1024)         0           ['concatenate_26[0][0]']         \n",
      "                                                                                                  \n",
      " dense_10 (Dense)               (None, 1024)         2098176     ['flatten_4[0][0]']              \n",
      "                                                                                                  \n",
      " dense_12 (Dense)               (None, 1024)         2098176     ['flatten_5[0][0]']              \n",
      "                                                                                                  \n",
      " dropout_8 (Dropout)            (None, 1024)         0           ['GAPL[0][0]']                   \n",
      "                                                                                                  \n",
      " dropout_6 (Dropout)            (None, 1024)         0           ['dense_10[0][0]']               \n",
      "                                                                                                  \n",
      " dropout_7 (Dropout)            (None, 1024)         0           ['dense_12[0][0]']               \n",
      "                                                                                                  \n",
      " dense_14 (Dense)               (None, 2)            2050        ['dropout_8[0][0]']              \n",
      "                                                                                                  \n",
      " dense_11 (Dense)               (None, 2)            2050        ['dropout_6[0][0]']              \n",
      "                                                                                                  \n",
      " dense_13 (Dense)               (None, 2)            2050        ['dropout_7[0][0]']              \n",
      "                                                                                                  \n",
      "==================================================================================================\n",
      "Total params: 10,309,430\n",
      "Trainable params: 10,309,430\n",
      "Non-trainable params: 0\n",
      "__________________________________________________________________________________________________\n"
     ]
    }
   ],
   "source": [
    "model.summary()"
   ]
  },
  {
   "cell_type": "code",
   "execution_count": 19,
   "metadata": {
    "colab": {
     "base_uri": "https://localhost:8080/"
    },
    "execution": {
     "iopub.execute_input": "2023-03-13T20:52:54.927886Z",
     "iopub.status.busy": "2023-03-13T20:52:54.927609Z",
     "iopub.status.idle": "2023-03-13T21:04:03.912667Z",
     "shell.execute_reply": "2023-03-13T21:04:03.912051Z",
     "shell.execute_reply.started": "2023-03-13T20:52:54.927872Z"
    },
    "id": "gTdhKs31TYTD",
    "outputId": "d7d7e4e4-d30f-4d3e-cb05-7690a1086d34"
   },
   "outputs": [
    {
     "name": "stdout",
     "output_type": "stream",
     "text": [
      "Epoch 1/10\n"
     ]
    },
    {
     "name": "stderr",
     "output_type": "stream",
     "text": [
      "2023-03-13 20:52:59.527778: W tensorflow/compiler/tf2xla/kernels/random_ops.cc:57] Warning: Using tf.random.uniform with XLA compilation will ignore seeds; consider using tf.random.stateless_uniform instead if reproducible behavior is desired. GoogLeNet/dropout_8/dropout/random_uniform/RandomUniform\n"
     ]
    },
    {
     "name": "stdout",
     "output_type": "stream",
     "text": [
      "176/176 [==============================] - 136s 591ms/step - loss: 1.5639 - dense_14_loss: 0.5313 - dense_11_loss: 0.5095 - dense_13_loss: 0.5230 - dense_14_accuracy: 0.7254 - dense_11_accuracy: 0.7447 - dense_13_accuracy: 0.7306 - val_loss: 1.0387 - val_dense_14_loss: 0.3474 - val_dense_11_loss: 0.3522 - val_dense_13_loss: 0.3390 - val_dense_14_accuracy: 0.8787 - val_dense_11_accuracy: 0.8713 - val_dense_13_accuracy: 0.8787\n",
      "Epoch 2/10\n",
      "176/176 [==============================] - 51s 290ms/step - loss: 1.2528 - dense_14_loss: 0.4200 - dense_11_loss: 0.4135 - dense_13_loss: 0.4193 - dense_14_accuracy: 0.8200 - dense_11_accuracy: 0.8222 - dense_13_accuracy: 0.8217 - val_loss: 1.0349 - val_dense_14_loss: 0.3612 - val_dense_11_loss: 0.3349 - val_dense_13_loss: 0.3387 - val_dense_14_accuracy: 0.8544 - val_dense_11_accuracy: 0.8787 - val_dense_13_accuracy: 0.8717\n",
      "Epoch 3/10\n",
      "176/176 [==============================] - 51s 291ms/step - loss: 1.1722 - dense_14_loss: 0.3925 - dense_11_loss: 0.3869 - dense_13_loss: 0.3927 - dense_14_accuracy: 0.8321 - dense_11_accuracy: 0.8347 - dense_13_accuracy: 0.8331 - val_loss: 0.8357 - val_dense_14_loss: 0.2789 - val_dense_11_loss: 0.2796 - val_dense_13_loss: 0.2773 - val_dense_14_accuracy: 0.9013 - val_dense_11_accuracy: 0.8976 - val_dense_13_accuracy: 0.8988\n",
      "Epoch 4/10\n",
      "176/176 [==============================] - 51s 291ms/step - loss: 1.0845 - dense_14_loss: 0.3624 - dense_11_loss: 0.3585 - dense_13_loss: 0.3636 - dense_14_accuracy: 0.8465 - dense_11_accuracy: 0.8501 - dense_13_accuracy: 0.8478 - val_loss: 0.9314 - val_dense_14_loss: 0.3096 - val_dense_11_loss: 0.3146 - val_dense_13_loss: 0.3071 - val_dense_14_accuracy: 0.8816 - val_dense_11_accuracy: 0.8758 - val_dense_13_accuracy: 0.8799\n",
      "Epoch 5/10\n",
      "176/176 [==============================] - 51s 287ms/step - loss: 1.0102 - dense_14_loss: 0.3378 - dense_11_loss: 0.3342 - dense_13_loss: 0.3383 - dense_14_accuracy: 0.8595 - dense_11_accuracy: 0.8610 - dense_13_accuracy: 0.8612 - val_loss: 0.7787 - val_dense_14_loss: 0.2564 - val_dense_11_loss: 0.2611 - val_dense_13_loss: 0.2612 - val_dense_14_accuracy: 0.9091 - val_dense_11_accuracy: 0.9058 - val_dense_13_accuracy: 0.9062\n",
      "Epoch 6/10\n",
      "176/176 [==============================] - 51s 289ms/step - loss: 0.9387 - dense_14_loss: 0.3133 - dense_11_loss: 0.3120 - dense_13_loss: 0.3135 - dense_14_accuracy: 0.8708 - dense_11_accuracy: 0.8735 - dense_13_accuracy: 0.8721 - val_loss: 0.7726 - val_dense_14_loss: 0.2587 - val_dense_11_loss: 0.2553 - val_dense_13_loss: 0.2586 - val_dense_14_accuracy: 0.9038 - val_dense_11_accuracy: 0.9005 - val_dense_13_accuracy: 0.9013\n",
      "Epoch 7/10\n",
      "176/176 [==============================] - 51s 290ms/step - loss: 0.9037 - dense_14_loss: 0.3023 - dense_11_loss: 0.2992 - dense_13_loss: 0.3022 - dense_14_accuracy: 0.8769 - dense_11_accuracy: 0.8785 - dense_13_accuracy: 0.8785 - val_loss: 0.7631 - val_dense_14_loss: 0.2526 - val_dense_11_loss: 0.2532 - val_dense_13_loss: 0.2573 - val_dense_14_accuracy: 0.9046 - val_dense_11_accuracy: 0.9034 - val_dense_13_accuracy: 0.9001\n",
      "Epoch 8/10\n",
      "176/176 [==============================] - 52s 293ms/step - loss: 0.8790 - dense_14_loss: 0.2928 - dense_11_loss: 0.2926 - dense_13_loss: 0.2936 - dense_14_accuracy: 0.8832 - dense_11_accuracy: 0.8848 - dense_13_accuracy: 0.8846 - val_loss: 1.2299 - val_dense_14_loss: 0.4218 - val_dense_11_loss: 0.4004 - val_dense_13_loss: 0.4077 - val_dense_14_accuracy: 0.8347 - val_dense_11_accuracy: 0.8446 - val_dense_13_accuracy: 0.8400\n",
      "Epoch 9/10\n",
      "176/176 [==============================] - 52s 293ms/step - loss: 0.8657 - dense_14_loss: 0.2905 - dense_11_loss: 0.2859 - dense_13_loss: 0.2893 - dense_14_accuracy: 0.8827 - dense_11_accuracy: 0.8858 - dense_13_accuracy: 0.8841 - val_loss: 0.7926 - val_dense_14_loss: 0.2641 - val_dense_11_loss: 0.2595 - val_dense_13_loss: 0.2690 - val_dense_14_accuracy: 0.8960 - val_dense_11_accuracy: 0.9034 - val_dense_13_accuracy: 0.8956\n",
      "Epoch 10/10\n",
      "176/176 [==============================] - 52s 292ms/step - loss: 0.8135 - dense_14_loss: 0.2713 - dense_11_loss: 0.2694 - dense_13_loss: 0.2729 - dense_14_accuracy: 0.8922 - dense_11_accuracy: 0.8935 - dense_13_accuracy: 0.8932 - val_loss: 0.7746 - val_dense_14_loss: 0.2592 - val_dense_11_loss: 0.2568 - val_dense_13_loss: 0.2586 - val_dense_14_accuracy: 0.8927 - val_dense_11_accuracy: 0.8976 - val_dense_13_accuracy: 0.8960\n"
     ]
    },
    {
     "data": {
      "text/plain": [
       "<keras.callbacks.History at 0x7efd235ef070>"
      ]
     },
     "execution_count": 19,
     "metadata": {},
     "output_type": "execute_result"
    }
   ],
   "source": [
    "steps_per_epoch = train_generator.labels.shape[0]//BATCH_SIZE\n",
    "validation_steps = validation_generator.labels.shape[0]//BATCH_SIZE\n",
    "\n",
    "model.fit(train_generator, steps_per_epoch=steps_per_epoch, epochs=10, \n",
    "                    validation_data=validation_generator, validation_steps=validation_steps, \n",
    "                    shuffle=True, callbacks=[callbacks_tensorboard, early_stopping])"
   ]
  },
  {
   "cell_type": "code",
   "execution_count": 20,
   "metadata": {
    "colab": {
     "base_uri": "https://localhost:8080/",
     "height": 649
    },
    "execution": {
     "iopub.execute_input": "2023-03-13T21:04:03.913863Z",
     "iopub.status.busy": "2023-03-13T21:04:03.913673Z",
     "iopub.status.idle": "2023-03-13T21:04:08.890796Z",
     "shell.execute_reply": "2023-03-13T21:04:08.888141Z",
     "shell.execute_reply.started": "2023-03-13T21:04:03.913845Z"
    },
    "id": "yDj_fU7YTdvF",
    "outputId": "11f31c4f-d24c-4e85-971d-e0bc3a4eb429"
   },
   "outputs": [
    {
     "name": "stdout",
     "output_type": "stream",
     "text": [
      "4/4 [==============================] - 4s 16ms/step\n"
     ]
    },
    {
     "ename": "ValueError",
     "evalue": "The truth value of an array with more than one element is ambiguous. Use a.any() or a.all()",
     "output_type": "error",
     "traceback": [
      "\u001b[0;31m---------------------------------------------------------------------------\u001b[0m",
      "\u001b[0;31mValueError\u001b[0m                                Traceback (most recent call last)",
      "Cell \u001b[0;32mIn [20], line 7\u001b[0m\n\u001b[1;32m      5\u001b[0m ax \u001b[38;5;241m=\u001b[39m plt\u001b[38;5;241m.\u001b[39msubplot(\u001b[38;5;241m6\u001b[39m, \u001b[38;5;241m6\u001b[39m, i \u001b[38;5;241m+\u001b[39m \u001b[38;5;241m1\u001b[39m)\n\u001b[1;32m      6\u001b[0m plt\u001b[38;5;241m.\u001b[39mimshow(img[i])\n\u001b[0;32m----> 7\u001b[0m \u001b[38;5;28;01mif\u001b[39;00m result[i][\u001b[38;5;241m1\u001b[39m] \u001b[38;5;241m<\u001b[39m \u001b[38;5;241m0.5\u001b[39m:\n\u001b[1;32m      8\u001b[0m     pred \u001b[38;5;241m=\u001b[39m \u001b[38;5;241m0\u001b[39m\n\u001b[1;32m      9\u001b[0m     \u001b[38;5;28;01mif\u001b[39;00m pred \u001b[38;5;241m==\u001b[39m _[i][\u001b[38;5;241m1\u001b[39m]:\n",
      "\u001b[0;31mValueError\u001b[0m: The truth value of an array with more than one element is ambiguous. Use a.any() or a.all()"
     ]
    },
    {
     "data": {
      "image/png": "[encoded data removed]",
      "text/plain": [
       "<Figure size 1500x1300 with 1 Axes>"
      ]
     },
     "metadata": {},
     "output_type": "display_data"
    }
   ],
   "source": [
    "img, _= next(validation_generator)\n",
    "plt.figure(figsize=(15, 13))\n",
    "result = model.predict(img)\n",
    "for i in range(30):\n",
    "    ax = plt.subplot(6, 6, i + 1)\n",
    "    plt.imshow(img[i])\n",
    "    if result[i][1] < 0.5:\n",
    "        pred = 0\n",
    "        if pred == _[i][1]:\n",
    "            plt.title(\"Organic\", color='green')\n",
    "        else: \n",
    "            plt.title(\"Organic\", color='red')\n",
    "    else:\n",
    "        pred = 1\n",
    "        if pred == _[i][1]:\n",
    "            plt.title(\"Non-Organic\", color='green')\n",
    "        else: \n",
    "            plt.title(\"Non-Organic\", color='red')\n",
    "    plt.axis(\"off\")"
   ]
  },
  {
   "cell_type": "code",
   "execution_count": 21,
   "metadata": {
    "execution": {
     "iopub.execute_input": "2023-03-13T21:27:50.378013Z",
     "iopub.status.busy": "2023-03-13T21:27:50.377716Z",
     "iopub.status.idle": "2023-03-13T21:27:54.528216Z",
     "shell.execute_reply": "2023-03-13T21:27:54.527486Z",
     "shell.execute_reply.started": "2023-03-13T21:27:50.377991Z"
    },
    "id": "05WZKn0kTbml"
   },
   "outputs": [
    {
     "data": {
      "text/html": [
       "\n",
       "      <iframe id=\"tensorboard-frame-38925da82036ac56\" width=\"100%\" height=\"800\" frameborder=\"0\">\n",
       "      </iframe>\n",
       "      <script>\n",
       "        (function() {\n",
       "          const frame = document.getElementById(\"tensorboard-frame-38925da82036ac56\");\n",
       "          const url = new URL(\"/\", window.location);\n",
       "          const port = 6006;\n",
       "          if (port) {\n",
       "            url.port = port;\n",
       "          }\n",
       "          frame.src = url;\n",
       "        })();\n",
       "      </script>\n",
       "    "
      ],
      "text/plain": [
       "<IPython.core.display.HTML object>"
      ]
     },
     "metadata": {},
     "output_type": "display_data"
    }
   ],
   "source": [
    "%tensorboard --logdir logs/fit"
   ]
  }
 ],
 "metadata": {
  "colab": {
   "provenance": []
  },
  "kernelspec": {
   "display_name": "Python 3 (ipykernel)",
   "language": "python",
   "name": "python3"
  },
  "language_info": {
   "codemirror_mode": {
    "name": "ipython",
    "version": 3
   },
   "file_extension": ".py",
   "mimetype": "text/x-python",
   "name": "python",
   "nbconvert_exporter": "python",
   "pygments_lexer": "ipython3",
   "version": "3.9.16"
  }
 },
 "nbformat": 4,
 "nbformat_minor": 4
}
